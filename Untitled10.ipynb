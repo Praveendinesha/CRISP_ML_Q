{
  "nbformat": 4,
  "nbformat_minor": 0,
  "metadata": {
    "colab": {
      "provenance": []
    },
    "kernelspec": {
      "name": "python3",
      "display_name": "Python 3"
    },
    "language_info": {
      "name": "python"
    }
  },
  "cells": [
    {
      "cell_type": "markdown",
      "source": [
        "# ***D A T A - U N D E R S T A N D I N G***\n",
        "\n",
        "---\n",
        "\n",
        "\n",
        "\n",
        "* \"Data Understanding\" is one of the key phase in CRISP ML.\n",
        "\n",
        "* This phase is crucial because it helps you gain a clear understanding of your data before proceeding with data preparation and modeling.\n",
        "\n",
        "* Befre Modelling to achieve the business problem, data understanding is crucial, in that aspect first of all understanding the data types of the data we get to work on a business problem is primary.\n",
        "\n"
      ],
      "metadata": {
        "id": "13kUn1Zdsy-5"
      }
    },
    {
      "cell_type": "markdown",
      "source": [
        "THERE ARE MANY DATA TYPES ARE THERE,\n",
        "\n",
        "## **BALANCED vs IMBALANCED DATA**\n",
        "\n",
        "\n",
        "\n",
        "---\n",
        "\n",
        "* The data might be a CATEGORICAL OR CONTINOUS in a datasets that we get.\n",
        "\n",
        "* While it is a Categorical Data when the datasets has 2 classes, if neither one is less than 30% of accomodate,i.e: **both the classes has an equal accomodation** then it is said to be **IMBALANCED DATA.**\n",
        "\n",
        "* While it is a Categorical Data when the datasets has 2 classes, if either one is **less than 30%** of accomodate, then it is said to be **IMBALANCED DATA.**\n",
        "\n",
        "*"
      ],
      "metadata": {
        "id": "E_TFcg_QxweN"
      }
    }
  ]
}